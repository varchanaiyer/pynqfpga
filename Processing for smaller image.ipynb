{
 "cells": [
  {
   "cell_type": "code",
   "execution_count": null,
   "metadata": {},
   "outputs": [],
   "source": [
    "import cv2\n",
    "\n",
    "img = cv2.imread('200.jpeg')"
   ]
  },
  {
   "cell_type": "code",
   "execution_count": null,
   "metadata": {},
   "outputs": [],
   "source": [
    "import IPython\n",
    "\n",
    "def imshow(img):\n",
    "    returnValue, buffer = cv2.imencode('.jpeg', img)\n",
    "    IPython.display.display(IPython.display.Image(data=buffer.tobytes()))\n",
    "\n",
    "imshow(img)\n",
    "\n",
    "height, width, channels = img.shape\n",
    "img.shape"
   ]
  },
  {
   "cell_type": "code",
   "execution_count": 3,
   "metadata": {},
   "outputs": [],
   "source": [
    "import numpy as np\n",
    "import time\n",
    "\n",
    "def ps_filter(img):\n",
    "    #Sobel Hor filter  \n",
    "    kernelV    = np.array([[-1.0,-2.0,-1.0],[0.0,0.0,0.0],[1.0,2.0,1.0]],np.float32)\n",
    "    kernelH    = np.array([[1.0,2.0,1.0],[0.0,0.0,0.0],[-1.0,-2.0,-1.0]],np.float32)\n",
    "    kernelG    = np.array([[1.0,2.0,1.0],[2.0,4.0,2.0],[1.0,2.0,1.0]],np.float32)\n",
    "    kernelD   = np.ones((3,3),np.uint8)\n",
    "    buf       = np.ones((height,width),np.uint8)\n",
    "    frame_out = np.ones((height,width),np.uint8)\n",
    "\n",
    "    num_frames    = 20\n",
    "\n",
    "    gaussian_kernel = cv2.getGaussianKernel(5,3)\n",
    "#     print(gaussian_kernel)\n",
    "    # kernel_2D = gaussian_kernel @ gaussian_kernel.transpose()\n",
    "\n",
    "    start = time.time()\n",
    "    frame_in_gray = cv2.cvtColor(img,cv2.COLOR_RGB2GRAY)\n",
    "    # cv2.filter2D(img, -1, kernelG, buf, borderType=cv2.BORDER_CONSTANT)\n",
    "    blurred=cv2.filter2D(img, -1, gaussian_kernel)\n",
    "#     cv2.dilate(buf, kernelD, frame_out, borderType=cv2.BORDER_CONSTANT)\n",
    "#     imshow(blurred)\n",
    "\n",
    "    time_sw_total = time.time() - start\n",
    "    print(\"Time Taken: {} \".format(time_sw_total))"
   ]
  },
  {
   "cell_type": "code",
   "execution_count": 4,
   "metadata": {},
   "outputs": [],
   "source": [
    "# print(open('prunSW','r').read())\n",
    "# res = !cat prunSW | grep filter2D | awk '{{print $$2}}'\n",
    "# tottime_sw_filter2d = float(res[0])\n",
    "# res = !cat prunSW | grep dilate   | awk '{{print $$2}}'\n",
    "# tottime_sw_dilate   = float(res[0])"
   ]
  },
  {
   "cell_type": "code",
   "execution_count": 5,
   "metadata": {},
   "outputs": [
    {
     "data": {
      "application/javascript": [
       "\n",
       "require(['notebook/js/codecell'], function(codecell) {\n",
       "  codecell.CodeCell.options_default.highlight_modes[\n",
       "      'magic_text/x-csrc'] = {'reg':[/^%%microblaze/]};\n",
       "  Jupyter.notebook.events.one('kernel_ready.Kernel', function(){\n",
       "      Jupyter.notebook.get_cells().map(function(cell){\n",
       "          if (cell.cell_type == 'code'){ cell.auto_highlight(); } }) ;\n",
       "  });\n",
       "});\n"
      ]
     },
     "metadata": {},
     "output_type": "display_data"
    }
   ],
   "source": [
    "import cv2 #NOTE: This needs to be loaded first\n",
    "\n",
    "# Load filter2D + dilate overlay\n",
    "from pynq import Overlay\n",
    "bs = Overlay(\"/usr/local/lib/python3.6/dist-packages/pynq_cv/overlays/xv2Filter2DDilate.bit\")\n",
    "bs.download()\n",
    "import pynq_cv.overlays.xv2Filter2DDilate as xv2\n",
    "\n",
    "# Load xlnk memory manager\n",
    "from pynq import Xlnk\n",
    "Xlnk.set_allocator_library('/usr/local/lib/python3.6/dist-packages/pynq_cv/overlays/xv2Filter2DDilate.so')\n",
    "mem_manager = Xlnk()"
   ]
  },
  {
   "cell_type": "code",
   "execution_count": 6,
   "metadata": {},
   "outputs": [],
   "source": [
    "import numpy as np\n",
    "import time\n",
    "import multiprocessing\n",
    "from multiprocessing.pool import ThreadPool\n",
    "\n",
    "def stream_fpga_filter(img):\n",
    "    kernelF    = np.array([[1.0,2.0,1.0],[0.0,0.0,0.0],[-1.0,-2.0,-1.0]],np.float32)\n",
    "    kernelVoid = np.zeros(0)\n",
    "    xFin       = mem_manager.cma_array((height,width),np.uint8)\n",
    "    xFbuf      = mem_manager.cma_array((height,width),np.uint8)\n",
    "    xFout      = mem_manager.cma_array((height,width),np.uint8)\n",
    "\n",
    "#     num_frames       = 20\n",
    "\n",
    "#     xFin[:]    = frame_in_gray[:]\n",
    "    start = time.time()\n",
    "    for _ in range(10):\n",
    "        frame_in_gray = cv2.cvtColor(img,cv2.COLOR_RGB2GRAY)\n",
    "        xFin[:]       = frame_in_gray[:]\n",
    "        \n",
    "        xv2.filter2D(xFin, -1, kernelF, xFbuf, borderType=cv2.BORDER_CONSTANT)\n",
    "        xv2.dilate(xFbuf, kernelVoid, xFout, borderType=cv2.BORDER_CONSTANT)\n",
    "        \n",
    "#         frame_out[:]  = xFout[:]\n",
    "#         imshow(xFout[:])\n",
    "    time_hw_total = time.time() - start\n",
    "    print(\"Time Taken:  \" + str(time_hw_total))\n",
    "\n",
    "def fpga_filter(img):\n",
    "    kernelF    = np.array([[1.0,2.0,1.0],[0.0,0.0,0.0],[-1.0,-2.0,-1.0]],np.float32)\n",
    "    kernelVoid = np.zeros(0)\n",
    "    xFin       = mem_manager.cma_array((height,width),np.uint8)\n",
    "    xFbuf      = mem_manager.cma_array((height,width),np.uint8)\n",
    "    xFout      = mem_manager.cma_array((height,width),np.uint8)\n",
    "\n",
    "#     num_frames       = 20\n",
    "\n",
    "#     xFin[:]    = frame_in_gray[:]\n",
    "    start = time.time()\n",
    "    frame_in_gray = cv2.cvtColor(img,cv2.COLOR_RGB2GRAY)\n",
    "    xFin[:]       = frame_in_gray[:]\n",
    "\n",
    "    xv2.filter2D(xFin, -1, kernelF, xFbuf, borderType=cv2.BORDER_CONSTANT)\n",
    "    xv2.dilate(xFbuf, kernelVoid, xFout, borderType=cv2.BORDER_CONSTANT)\n",
    "\n",
    "#         frame_out[:]  = xFout[:]\n",
    "#         imshow(xFout[:])\n",
    "    time_hw_total = time.time() - start\n",
    "    print(\"Time Taken:  \" + str(time_hw_total))"
   ]
  },
  {
   "cell_type": "markdown",
   "metadata": {},
   "source": [
    "# Single Processing"
   ]
  },
  {
   "cell_type": "code",
   "execution_count": 7,
   "metadata": {},
   "outputs": [
    {
     "name": "stdout",
     "output_type": "stream",
     "text": [
      "time taken for small image\n",
      "Time taken on PS with Single Processing for 10 Iterations\n",
      "Time Taken: 0.005842924118041992 \n",
      "Time Taken: 0.00412297248840332 \n",
      "Time Taken: 0.004113674163818359 \n",
      "Time Taken: 0.0041277408599853516 \n",
      "Time Taken: 0.004109859466552734 \n",
      "Time Taken: 0.004124164581298828 \n",
      "Time Taken: 0.004167079925537109 \n",
      "Time Taken: 0.004114389419555664 \n",
      "Time Taken: 0.004142045974731445 \n",
      "Time Taken: 0.004122257232666016 \n",
      "Time taken for non-parallel execution: 0.05222630500793457\n",
      "Time taken on FPGA with stream Single Processing for 10 Iterations\n",
      "Time Taken:  0.008664846420288086\n",
      "Time taken for non-parallel execution: 0.019890785217285156\n",
      "Time taken on FPGA with stream Single Processing for 10 Iterations\n",
      "Time Taken:  0.0009882450103759766\n",
      "Time Taken:  0.0008890628814697266\n",
      "Time Taken:  0.0008792877197265625\n",
      "Time Taken:  0.0008680820465087891\n",
      "Time Taken:  0.0008800029754638672\n",
      "Time Taken:  0.0008678436279296875\n",
      "Time Taken:  0.0008754730224609375\n",
      "Time Taken:  0.0008988380432128906\n",
      "Time Taken:  0.0008726119995117188\n",
      "Time Taken:  0.0009002685546875\n",
      "Time taken for non-parallel execution: 0.023181915283203125\n"
     ]
    }
   ],
   "source": [
    "print('time taken for small image')\n",
    "num_iterations=10\n",
    "print(\"Time taken on PS with Single Processing for {} Iterations\".format(num_iterations))\n",
    "start_time=time.time()\n",
    "for i in range(num_iterations):\n",
    "    ps_filter(img)\n",
    "print('Time taken for non-parallel execution: {}'.format(time.time()-start_time))\n",
    "\n",
    "num_iterations=10\n",
    "print(\"Time taken on FPGA with stream Single Processing for {} Iterations\".format(num_iterations))\n",
    "start_time=time.time()\n",
    "# for i in range(num_iterations):\n",
    "stream_fpga_filter(img)\n",
    "print('Time taken for non-parallel execution: {}'.format(time.time()-start_time))\n",
    "\n",
    "print(\"Time taken on FPGA with stream Single Processing for {} Iterations\".format(num_iterations))\n",
    "start_time=time.time()\n",
    "for i in range(num_iterations):\n",
    "    fpga_filter(img)\n",
    "print('Time taken for non-parallel execution: {}'.format(time.time()-start_time))\n"
   ]
  },
  {
   "cell_type": "markdown",
   "metadata": {},
   "source": [
    "# Multi-Processing"
   ]
  },
  {
   "cell_type": "code",
   "execution_count": 8,
   "metadata": {},
   "outputs": [
    {
     "name": "stdout",
     "output_type": "stream",
     "text": [
      "Time taken on PS with Multi-Processing for 10 Iterations\n",
      "Time Taken: 0.004774332046508789 \n",
      "Time Taken: 0.0053637027740478516 \n",
      "Time Taken: 0.0051898956298828125 \n",
      "Time Taken: 0.005769252777099609 \n",
      "Time Taken: 0.00951528549194336 \n",
      "Time Taken: 0.0045626163482666016 \n",
      "Time Taken: 0.004465579986572266 \n",
      "Time Taken: 0.004378795623779297 \n",
      "Time Taken: 0.0045261383056640625 \n",
      "Time Taken: 0.007013559341430664 \n",
      "Time taken for multi-processing= 0.06764793395996094\n",
      "Time taken on FPGA with Multi-Processing for 10 Iterations\n",
      "Time Taken:  0.003299713134765625\n",
      "Time Taken:  0.003304719924926758\n",
      "Time Taken:  0.0044002532958984375\n",
      "Time Taken:  0.001390218734741211\n",
      "Time Taken:  0.0009567737579345703\n",
      "Time Taken:  0.001710653305053711\n",
      "Time Taken:  0.0018153190612792969\n",
      "Time Taken:  0.001127004623413086\n",
      "Time Taken:  0.0010175704956054688\n",
      "Time Taken:  0.0011069774627685547\n",
      "Time taken for multi-processing= 0.06943035125732422\n"
     ]
    }
   ],
   "source": [
    "print(\"Time taken on PS with Multi-Processing for {} Iterations\".format(num_iterations))\n",
    "pool=multiprocessing.Pool()\n",
    "start_time=time.time()\n",
    "pool.map(ps_filter, [img]*num_iterations)\n",
    "print('Time taken for multi-processing= {}'.format(time.time()-start_time))\n",
    "\n",
    "\n",
    "print(\"Time taken on FPGA with Multi-Processing for {} Iterations\".format(num_iterations))\n",
    "pool=multiprocessing.Pool()\n",
    "start_time=time.time()\n",
    "pool.map(fpga_filter, [img]*num_iterations)\n",
    "print('Time taken for multi-processing= {}'.format(time.time()-start_time))"
   ]
  },
  {
   "cell_type": "code",
   "execution_count": null,
   "metadata": {},
   "outputs": [],
   "source": []
  }
 ],
 "metadata": {
  "kernelspec": {
   "display_name": "Python 3",
   "language": "python",
   "name": "python3"
  },
  "language_info": {
   "codemirror_mode": {
    "name": "ipython",
    "version": 3
   },
   "file_extension": ".py",
   "mimetype": "text/x-python",
   "name": "python",
   "nbconvert_exporter": "python",
   "pygments_lexer": "ipython3",
   "version": "3.6.5"
  }
 },
 "nbformat": 4,
 "nbformat_minor": 2
}
