{
 "cells": [
  {
   "cell_type": "code",
   "execution_count": 1,
   "metadata": {},
   "outputs": [],
   "source": [
    "import cv2\n",
    "\n",
    "img = cv2.imread('images/solar_Fri_Jun_16_6__0__25_2017_L_0.0901960784314_I_0.003.jpg')\n",
    "# img=cv2.imread('images/tree.jpg')\n",
    "# img=cv2.imread('images/out3.jpg')"
   ]
  },
  {
   "cell_type": "code",
   "execution_count": 2,
   "metadata": {},
   "outputs": [
    {
     "data": {
      "image/jpeg": "[encoded data removed]",
      "text/plain": [
       "<IPython.core.display.Image object>"
      ]
     },
     "metadata": {},
     "output_type": "display_data"
    },
    {
     "data": {
      "text/plain": [
       "(192, 192, 3)"
      ]
     },
     "execution_count": 2,
     "metadata": {},
     "output_type": "execute_result"
    }
   ],
   "source": [
    "import IPython\n",
    "\n",
    "def imshow(img):\n",
    "    returnValue, buffer = cv2.imencode('.jpg', img)\n",
    "    IPython.display.display(IPython.display.Image(data=buffer.tobytes()))\n",
    "\n",
    "imshow(img)\n",
    "\n",
    "height, width, channels = img.shape\n",
    "img.shape"
   ]
  },
  {
   "cell_type": "code",
   "execution_count": 3,
   "metadata": {},
   "outputs": [],
   "source": [
    "import numpy as np\n",
    "import time\n",
    "\n",
    "def ps_filter(img):\n",
    "    #Sobel Hor filter  \n",
    "    kernelV    = np.array([[-1.0,-2.0,-1.0],[0.0,0.0,0.0],[1.0,2.0,1.0]],np.float32)\n",
    "    kernelH    = np.array([[1.0,2.0,1.0],[0.0,0.0,0.0],[-1.0,-2.0,-1.0]],np.float32)\n",
    "    kernelG    = np.array([[1.0,2.0,1.0],[2.0,4.0,2.0],[1.0,2.0,1.0]],np.float32)\n",
    "    kernelD   = np.ones((3,3),np.uint8)\n",
    "    buf       = np.ones((height,width),np.uint8)\n",
    "    frame_out = np.ones((height,width),np.uint8)\n",
    "\n",
    "    num_frames    = 20\n",
    "\n",
    "    gaussian_kernel = cv2.getGaussianKernel(5,3)\n",
    "#     print(gaussian_kernel)\n",
    "    # kernel_2D = gaussian_kernel @ gaussian_kernel.transpose()\n",
    "\n",
    "    start = time.time()\n",
    "    frame_in_gray = cv2.cvtColor(img,cv2.COLOR_RGB2GRAY)\n",
    "    # cv2.filter2D(img, -1, kernelG, buf, borderType=cv2.BORDER_CONSTANT)\n",
    "    blurred=cv2.filter2D(img, -1, gaussian_kernel)\n",
    "#     cv2.dilate(buf, kernelD, frame_out, borderType=cv2.BORDER_CONSTANT)\n",
    "#     imshow(blurred)\n",
    "\n",
    "    time_sw_total = time.time() - start\n",
    "    print(\"Time Taken: {} \".format(time_sw_total))"
   ]
  },
  {
   "cell_type": "code",
   "execution_count": 4,
   "metadata": {},
   "outputs": [],
   "source": [
    "# print(open('prunSW','r').read())\n",
    "# res = !cat prunSW | grep filter2D | awk '{{print $$2}}'\n",
    "# tottime_sw_filter2d = float(res[0])\n",
    "# res = !cat prunSW | grep dilate   | awk '{{print $$2}}'\n",
    "# tottime_sw_dilate   = float(res[0])"
   ]
  },
  {
   "cell_type": "code",
   "execution_count": 5,
   "metadata": {},
   "outputs": [
    {
     "data": {
      "application/javascript": [
       "\n",
       "require(['notebook/js/codecell'], function(codecell) {\n",
       "  codecell.CodeCell.options_default.highlight_modes[\n",
       "      'magic_text/x-csrc'] = {'reg':[/^%%microblaze/]};\n",
       "  Jupyter.notebook.events.one('kernel_ready.Kernel', function(){\n",
       "      Jupyter.notebook.get_cells().map(function(cell){\n",
       "          if (cell.cell_type == 'code'){ cell.auto_highlight(); } }) ;\n",
       "  });\n",
       "});\n"
      ]
     },
     "metadata": {},
     "output_type": "display_data"
    }
   ],
   "source": [
    "import cv2 #NOTE: This needs to be loaded first\n",
    "\n",
    "# Load filter2D + dilate overlay\n",
    "from pynq import Overlay\n",
    "bs = Overlay(\"/usr/local/lib/python3.6/dist-packages/pynq_cv/overlays/xv2Filter2DDilate.bit\")\n",
    "bs.download()\n",
    "import pynq_cv.overlays.xv2Filter2DDilate as xv2\n",
    "\n",
    "# Load xlnk memory manager\n",
    "from pynq import Xlnk\n",
    "Xlnk.set_allocator_library('/usr/local/lib/python3.6/dist-packages/pynq_cv/overlays/xv2Filter2DDilate.so')\n",
    "mem_manager = Xlnk()"
   ]
  },
  {
   "cell_type": "code",
   "execution_count": 6,
   "metadata": {},
   "outputs": [],
   "source": [
    "import numpy as np\n",
    "import time\n",
    "import multiprocessing\n",
    "from multiprocessing.pool import ThreadPool\n",
    "\n",
    "def stream_fpga_filter(img):\n",
    "    kernelF    = np.array([[1.0,2.0,1.0],[0.0,0.0,0.0],[-1.0,-2.0,-1.0]],np.float32)\n",
    "    kernelVoid = np.zeros(0)\n",
    "    xFin       = mem_manager.cma_array((height,width),np.uint8)\n",
    "    xFbuf      = mem_manager.cma_array((height,width),np.uint8)\n",
    "    xFout      = mem_manager.cma_array((height,width),np.uint8)\n",
    "\n",
    "#     num_frames       = 20\n",
    "\n",
    "#     xFin[:]    = frame_in_gray[:]\n",
    "    start = time.time()\n",
    "    for _ in range(10):\n",
    "        frame_in_gray = cv2.cvtColor(img,cv2.COLOR_RGB2GRAY)\n",
    "        xFin[:]       = frame_in_gray[:]\n",
    "        \n",
    "        xv2.filter2D(xFin, -1, kernelF, xFbuf, borderType=cv2.BORDER_CONSTANT)\n",
    "        xv2.dilate(xFbuf, kernelVoid, xFout, borderType=cv2.BORDER_CONSTANT)\n",
    "        \n",
    "#         frame_out[:]  = xFout[:]\n",
    "#         imshow(xFout[:])\n",
    "    time_hw_total = time.time() - start\n",
    "    print(\"Time Taken:  \" + str(time_hw_total))\n",
    "\n",
    "def fpga_filter(img):\n",
    "    kernelF    = np.array([[1.0,2.0,1.0],[0.0,0.0,0.0],[-1.0,-2.0,-1.0]],np.float32)\n",
    "    kernelVoid = np.zeros(0)\n",
    "    xFin       = mem_manager.cma_array((height,width),np.uint8)\n",
    "    xFbuf      = mem_manager.cma_array((height,width),np.uint8)\n",
    "    xFout      = mem_manager.cma_array((height,width),np.uint8)\n",
    "\n",
    "#     num_frames       = 20\n",
    "\n",
    "#     xFin[:]    = frame_in_gray[:]\n",
    "    start = time.time()\n",
    "    frame_in_gray = cv2.cvtColor(img,cv2.COLOR_RGB2GRAY)\n",
    "    xFin[:]       = frame_in_gray[:]\n",
    "\n",
    "    xv2.filter2D(xFin, -1, kernelF, xFbuf, borderType=cv2.BORDER_CONSTANT)\n",
    "    xv2.dilate(xFbuf, kernelVoid, xFout, borderType=cv2.BORDER_CONSTANT)\n",
    "\n",
    "#         frame_out[:]  = xFout[:]\n",
    "#         imshow(xFout[:])\n",
    "    time_hw_total = time.time() - start\n",
    "    print(\"Time Taken:  \" + str(time_hw_total))"
   ]
  },
  {
   "cell_type": "markdown",
   "metadata": {},
   "source": [
    "# Single Processing"
   ]
  },
  {
   "cell_type": "code",
   "execution_count": 7,
   "metadata": {},
   "outputs": [
    {
     "name": "stdout",
     "output_type": "stream",
     "text": [
      "time taken for small image\n",
      "Time taken on PS with Single Processing for 10 Iterations\n",
      "Time Taken: 0.006550788879394531 \n",
      "Time Taken: 0.004167318344116211 \n",
      "Time Taken: 0.004126310348510742 \n",
      "Time Taken: 0.00412297248840332 \n",
      "Time Taken: 0.004111289978027344 \n",
      "Time Taken: 0.004312276840209961 \n",
      "Time Taken: 0.0041675567626953125 \n",
      "Time Taken: 0.004239797592163086 \n",
      "Time Taken: 0.00424647331237793 \n",
      "Time Taken: 0.004132270812988281 \n",
      "Time taken for non-parallel execution: 0.054035186767578125\n",
      "Time taken on FPGA with stream Single Processing for 10 Iterations\n",
      "Time Taken:  0.00857853889465332\n",
      "Time taken for non-parallel execution: 0.020228147506713867\n",
      "Time taken on FPGA with stream Single Processing for 10 Iterations\n",
      "Time Taken:  0.0010950565338134766\n",
      "Time Taken:  0.0009419918060302734\n",
      "Time Taken:  0.0008866786956787109\n",
      "Time Taken:  0.0008885860443115234\n",
      "Time Taken:  0.0008800029754638672\n",
      "Time Taken:  0.0008878707885742188\n",
      "Time Taken:  0.0008831024169921875\n",
      "Time Taken:  0.0008842945098876953\n",
      "Time Taken:  0.0008852481842041016\n",
      "Time Taken:  0.0008842945098876953\n",
      "Time taken for non-parallel execution: 0.023193359375\n"
     ]
    }
   ],
   "source": [
    "print('time taken for small image')\n",
    "num_iterations=10\n",
    "print(\"Time taken on PS with Single Processing for {} Iterations\".format(num_iterations))\n",
    "start_time=time.time()\n",
    "for i in range(num_iterations):\n",
    "    ps_filter(img)\n",
    "print('Time taken for non-parallel execution: {}'.format(time.time()-start_time))\n",
    "\n",
    "num_iterations=10\n",
    "print(\"Time taken on FPGA with stream Single Processing for {} Iterations\".format(num_iterations))\n",
    "start_time=time.time()\n",
    "# for i in range(num_iterations):\n",
    "stream_fpga_filter(img)\n",
    "print('Time taken for non-parallel execution: {}'.format(time.time()-start_time))\n",
    "\n",
    "print(\"Time taken on FPGA with stream Single Processing for {} Iterations\".format(num_iterations))\n",
    "start_time=time.time()\n",
    "for i in range(num_iterations):\n",
    "    fpga_filter(img)\n",
    "print('Time taken for non-parallel execution: {}'.format(time.time()-start_time))\n"
   ]
  },
  {
   "cell_type": "markdown",
   "metadata": {},
   "source": [
    "# Multi-Processing"
   ]
  },
  {
   "cell_type": "code",
   "execution_count": 8,
   "metadata": {},
   "outputs": [
    {
     "name": "stdout",
     "output_type": "stream",
     "text": [
      "Time taken on PS with Multi-Processing for 10 Iterations\n",
      "Time Taken:  0.0016961097717285156\n",
      "Time Taken:  0.0015499591827392578\n",
      "Time Taken:  0.0016782283782958984\n",
      "Time Taken:  0.0016951560974121094\n",
      "Time Taken:  0.0010998249053955078\n",
      "Time Taken:  0.001111745834350586\n",
      "Time Taken:  0.0009851455688476562\n",
      "Time Taken:  0.0009829998016357422\n",
      "Time Taken:  0.0033261775970458984\n",
      "Time Taken:  0.0033118724822998047\n",
      "Time taken for multi-processing= 0.08086419105529785\n",
      "Time taken on FPGA with Multi-Processing for 10 Iterations\n",
      "Time Taken:  0.0012235641479492188\n",
      "Time Taken:  0.0013508796691894531\n",
      "Time Taken:  0.001840829849243164\n",
      "Time Taken:  0.001967906951904297\n",
      "Time Taken:  0.0010333061218261719\n",
      "Time Taken:  0.0009682178497314453\n",
      "Time Taken:  0.0011513233184814453\n",
      "Time Taken:  0.0009584426879882812\n",
      "Time Taken:  0.0011272430419921875\n",
      "Time Taken:  0.0008995532989501953\n",
      "Time taken for multi-processing= 0.06435513496398926\n"
     ]
    }
   ],
   "source": [
    "print(\"Time taken on PS with Multi-Processing for {} Iterations\".format(num_iterations))\n",
    "pool=multiprocessing.Pool()\n",
    "start_time=time.time()\n",
    "pool.map(fpga_filter, [img]*num_iterations)\n",
    "print('Time taken for multi-processing= {}'.format(time.time()-start_time))\n",
    "\n",
    "\n",
    "print(\"Time taken on FPGA with Multi-Processing for {} Iterations\".format(num_iterations))\n",
    "pool=multiprocessing.Pool()\n",
    "start_time=time.time()\n",
    "pool.map(fpga_filter, [img]*num_iterations)\n",
    "print('Time taken for multi-processing= {}'.format(time.time()-start_time))"
   ]
  },
  {
   "cell_type": "code",
   "execution_count": null,
   "metadata": {},
   "outputs": [],
   "source": []
  }
 ],
 "metadata": {
  "kernelspec": {
   "display_name": "Python 3",
   "language": "python",
   "name": "python3"
  },
  "language_info": {
   "codemirror_mode": {
    "name": "ipython",
    "version": 3
   },
   "file_extension": ".py",
   "mimetype": "text/x-python",
   "name": "python",
   "nbconvert_exporter": "python",
   "pygments_lexer": "ipython3",
   "version": "3.6.5"
  }
 },
 "nbformat": 4,
 "nbformat_minor": 2
}
